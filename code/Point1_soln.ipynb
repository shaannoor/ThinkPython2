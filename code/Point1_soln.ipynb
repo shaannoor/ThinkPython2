{
 "cells": [
  {
   "cell_type": "markdown",
   "metadata": {},
   "source": [
    "\n",
    "This module contains a code example related to<br>\n",
    "Think Python, 2nd Edition<br>\n",
    "by Allen Downey<br>\n",
    "http://thinkpython2.com<br>\n",
    "Copyright 2015 Allen Downey<br>\n",
    "License: http://creativecommons.org/licenses/by/4.0/<br>\n"
   ]
  },
  {
   "cell_type": "code",
   "execution_count": null,
   "metadata": {},
   "outputs": [],
   "source": [
    "from __future__ import print_function, division"
   ]
  },
  {
   "cell_type": "code",
   "execution_count": null,
   "metadata": {},
   "outputs": [],
   "source": [
    "import copy\n",
    "import math"
   ]
  },
  {
   "cell_type": "code",
   "execution_count": null,
   "metadata": {},
   "outputs": [],
   "source": [
    "from Point1 import Point, Rectangle"
   ]
  },
  {
   "cell_type": "code",
   "execution_count": null,
   "metadata": {},
   "outputs": [],
   "source": [
    "def distance_between_points(p1, p2):\n",
    "    \"\"\"Computes the distance between two Point objects.\n",
    "    p1: Point\n",
    "    p2: Point\n",
    "    returns: float\n",
    "    \"\"\"\n",
    "    dx = p1.x - p2.x\n",
    "    dy = p1.y - p2.y\n",
    "    dist = math.sqrt(dx**2 + dy**2)\n",
    "    return dist"
   ]
  },
  {
   "cell_type": "code",
   "execution_count": null,
   "metadata": {},
   "outputs": [],
   "source": [
    "def move_rectangle(rect, dx, dy):\n",
    "    \"\"\"Move the Rectangle by modifying its corner object.\n",
    "    rect: Rectangle object.\n",
    "    dx: change in x coordinate (can be negative).\n",
    "    dy: change in y coordinate (can be negative).\n",
    "    \"\"\"\n",
    "    rect.corner.x += dx\n",
    "    rect.corner.y += dy"
   ]
  },
  {
   "cell_type": "code",
   "execution_count": null,
   "metadata": {},
   "outputs": [],
   "source": [
    "def move_rectangle_copy(rect, dx, dy):\n",
    "    \"\"\"Move the Rectangle and return a new Rectangle object.\n",
    "    rect: Rectangle object.\n",
    "    dx: change in x coordinate (can be negative).\n",
    "    dy: change in y coordinate (can be negative).\n",
    "    returns: new Rectangle\n",
    "    \"\"\"\n",
    "    new = copy.deepcopy(rect)\n",
    "    move_rectangle(new, dx, dy)\n",
    "    return new"
   ]
  },
  {
   "cell_type": "code",
   "execution_count": null,
   "metadata": {},
   "outputs": [],
   "source": [
    "def main():\n",
    "    blank = Point()\n",
    "    blank.x = 0\n",
    "    blank.y = 0\n",
    "    grosse = Point()\n",
    "    grosse.x = 3\n",
    "    grosse.y = 4\n",
    "    print('distance', end=' ')\n",
    "    print(distance_between_points(grosse, blank))\n",
    "    box = Rectangle()\n",
    "    box.width = 100.0\n",
    "    box.height = 200.0\n",
    "    box.corner = Point()\n",
    "    box.corner.x = 50.0\n",
    "    box.corner.y = 50.0\n",
    "    print(box.corner.x)\n",
    "    print(box.corner.y)\n",
    "    print('move')\n",
    "    move_rectangle(box, 50, 100)\n",
    "    print(box.corner.x)\n",
    "    print(box.corner.y)\n",
    "    new_box = move_rectangle_copy(box, 50, 100)\n",
    "    print(new_box.corner.x)\n",
    "    print(new_box.corner.y)"
   ]
  }
 ],
 "metadata": {
  "kernelspec": {
   "display_name": "Python 3",
   "language": "python",
   "name": "python3"
  },
  "language_info": {
   "codemirror_mode": {
    "name": "ipython",
    "version": 3
   },
   "file_extension": ".py",
   "mimetype": "text/x-python",
   "name": "python",
   "nbconvert_exporter": "python",
   "pygments_lexer": "ipython3",
   "version": "3.7.6"
  },
  "toc": {
   "base_numbering": 1,
   "nav_menu": {},
   "number_sections": true,
   "sideBar": true,
   "skip_h1_title": false,
   "title_cell": "Table of Contents",
   "title_sidebar": "Contents",
   "toc_cell": false,
   "toc_position": {},
   "toc_section_display": true,
   "toc_window_display": false
  },
  "varInspector": {
   "cols": {
    "lenName": 16,
    "lenType": 16,
    "lenVar": 40
   },
   "kernels_config": {
    "python": {
     "delete_cmd_postfix": "",
     "delete_cmd_prefix": "del ",
     "library": "var_list.py",
     "varRefreshCmd": "print(var_dic_list())"
    },
    "r": {
     "delete_cmd_postfix": ") ",
     "delete_cmd_prefix": "rm(",
     "library": "var_list.r",
     "varRefreshCmd": "cat(var_dic_list()) "
    }
   },
   "types_to_exclude": [
    "module",
    "function",
    "builtin_function_or_method",
    "instance",
    "_Feature"
   ],
   "window_display": false
  }
 },
 "nbformat": 4,
 "nbformat_minor": 2
}
